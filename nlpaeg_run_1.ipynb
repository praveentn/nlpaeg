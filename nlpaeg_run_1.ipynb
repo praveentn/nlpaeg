{
 "cells": [
  {
   "cell_type": "code",
   "execution_count": 1,
   "metadata": {},
   "outputs": [],
   "source": [
    "#!pip install nlpaeg --upgrade"
   ]
  },
  {
   "cell_type": "code",
   "execution_count": 2,
   "metadata": {},
   "outputs": [],
   "source": [
    "# import libraries\n",
    "import os\n",
    "import nlpaeg\n",
    "import pandas as pd\n",
    "from nlpaeg import error_generator as eg"
   ]
  },
  {
   "cell_type": "code",
   "execution_count": 3,
   "metadata": {},
   "outputs": [
    {
     "data": {
      "text/plain": [
       "'0.0.6'"
      ]
     },
     "execution_count": 3,
     "metadata": {},
     "output_type": "execute_result"
    }
   ],
   "source": [
    "nlpaeg.__version__"
   ]
  },
  {
   "cell_type": "code",
   "execution_count": 4,
   "metadata": {},
   "outputs": [
    {
     "data": {
      "text/html": [
       "<div>\n",
       "<style scoped>\n",
       "    .dataframe tbody tr th:only-of-type {\n",
       "        vertical-align: middle;\n",
       "    }\n",
       "\n",
       "    .dataframe tbody tr th {\n",
       "        vertical-align: top;\n",
       "    }\n",
       "\n",
       "    .dataframe thead th {\n",
       "        text-align: right;\n",
       "    }\n",
       "</style>\n",
       "<table border=\"1\" class=\"dataframe\">\n",
       "  <thead>\n",
       "    <tr style=\"text-align: right;\">\n",
       "      <th></th>\n",
       "      <th>sentences</th>\n",
       "      <th>type</th>\n",
       "    </tr>\n",
       "  </thead>\n",
       "  <tbody>\n",
       "    <tr>\n",
       "      <th>76475</th>\n",
       "      <td>Due to socio-demographic trends, worldwide hom...</td>\n",
       "      <td>Abstract</td>\n",
       "    </tr>\n",
       "    <tr>\n",
       "      <th>9534</th>\n",
       "      <td>These data indicate that (a) the expression an...</td>\n",
       "      <td>Abstract</td>\n",
       "    </tr>\n",
       "    <tr>\n",
       "      <th>26082</th>\n",
       "      <td>The prevalence of unintended pregnancy was 10....</td>\n",
       "      <td>Abstract</td>\n",
       "    </tr>\n",
       "    <tr>\n",
       "      <th>5812</th>\n",
       "      <td>We attribute the observed changes in protein a...</td>\n",
       "      <td>Abstract</td>\n",
       "    </tr>\n",
       "    <tr>\n",
       "      <th>6359</th>\n",
       "      <td>Existing problems, limitations, and future tre...</td>\n",
       "      <td>Abstract</td>\n",
       "    </tr>\n",
       "  </tbody>\n",
       "</table>\n",
       "</div>"
      ],
      "text/plain": [
       "                                               sentences      type\n",
       "76475  Due to socio-demographic trends, worldwide hom...  Abstract\n",
       "9534   These data indicate that (a) the expression an...  Abstract\n",
       "26082  The prevalence of unintended pregnancy was 10....  Abstract\n",
       "5812   We attribute the observed changes in protein a...  Abstract\n",
       "6359   Existing problems, limitations, and future tre...  Abstract"
      ]
     },
     "execution_count": 4,
     "metadata": {},
     "output_type": "execute_result"
    }
   ],
   "source": [
    "# data directory\n",
    "data_dir = os.path.join(os.getcwd(), \"data\")\n",
    "\n",
    "# filename sentences without errors\n",
    "train_data = \"nlpaeg_pubmed_data_min.csv\"\n",
    "train_data_file_path = os.path.join(data_dir, train_data)\n",
    "\n",
    "# define the following parameters\n",
    "# depending on the dataset\n",
    "g = eg.ErrorGenerator()\n",
    "\n",
    "# set source data\n",
    "g.source_data = pd.read_csv(train_data_file_path)\n",
    "\n",
    "# comment below to select entire dataset\n",
    "g.source_data = g.source_data.sample(10000)\n",
    "\n",
    "# set sentence column name\n",
    "# default: sentences\n",
    "g.sentence_column = \"sentences\"\n",
    "\n",
    "g.source_data.head()"
   ]
  },
  {
   "cell_type": "code",
   "execution_count": 5,
   "metadata": {},
   "outputs": [],
   "source": [
    "\n",
    "# define n-gram order\n",
    "# 4 => quadgrams, trigrams, bigrams and unigrams\n",
    "# 3 => trigrams, bigrams and unigrams\n",
    "# 2 => bigrams and unigrams\n",
    "# default is 3; max is 5\n",
    "g.ngram_order = 4\n",
    "\n",
    "# name of columns -> predefined\n",
    "# max upto 5 -grams\n",
    "g.ngram_cols = {\n",
    "    1: \"unigrams\", 2: \"bigrams\", 3: \"trigrams\", \n",
    "    4: \"quadgrams\", 5: \"pentgrams\"\n",
    "}\n",
    "\n",
    "# total samples\n",
    "g.total_samples = len(g.source_data)\n",
    "\n",
    "# selecting a proportion of most common n-grams\n",
    "# if there are 1000 sentences and 2000 unigrams\n",
    "# then we select only 30% of total unigrams\n",
    "# how many ngrams to consider\n",
    "# using most frequent ones\n",
    "# if total unigrams -> 2000; take top 600\n",
    "g.n_ngrams = {\n",
    "    1: int(g.total_samples * 0.3),\n",
    "    2: int(g.total_samples * 0.2),\n",
    "    3: int(g.total_samples * 0.15),\n",
    "    4: int(g.total_samples * 0.1),\n",
    "    5: int(g.total_samples * 0.05),\n",
    "}\n",
    "\n",
    "\n",
    "# define proportion of ngram matches to modify\n",
    "# for example, if there were 10 sentences in total\n",
    "# changes to unigrams -> 10\n",
    "# changes to bigrams -> 7\n",
    "# changes to trigrams -> 3\n",
    "# we'll need to use all three trigrams, most of bigrams\n",
    "# and half of unigrams\n",
    "# for sampling ngram changes\n",
    "g.ngram_weights = {\n",
    "    0: 1,    # 100% of no grams\n",
    "    1: 0.4, # 40% of unigram changes\n",
    "    2: 0.6, # 60% of bigram changes\n",
    "    3: 0.8, # 80% of trigram changes\n",
    "    4: 0.95, # 95% of quadgram changes\n",
    "    5: 1    # 100% of pentgram changes\n",
    "}\n",
    "\n",
    "# probability distribution of artificial errors\n",
    "# keys -> type of errors\n",
    "# values -> distribution %\n",
    "g.error_distribution = {\n",
    "    \"dictionary_replacement_phrase_order_change\": 0.2,\n",
    "    \"verb_form_change_insert_determiner\": 0.1,\n",
    "    \"verb_form_change_phrase_order_change\": 0.1,\n",
    "    \"insert_determiner_verb_form_change\": 0.1,\n",
    "    \"phrase_order_change\": 0.1,\n",
    "    \"duplication\": 0.1,\n",
    "    \"split_words\": 0.1,\n",
    "    \"remove_words\": 0.1,\n",
    "    \"insert_determiner\": 0.05,\n",
    "    \"punctuations\": 0.04,\n",
    "    \"punctuation_braces\": 0.01,\n",
    "}\n",
    "\n",
    "# not all errors are applicable to unigrams\n",
    "g.error_distribution_unigram = {\n",
    "    \"verb_form_change_insert_determiner\": 0.25,\n",
    "    \"insert_determiner_verb_form_change\": 0.15,\n",
    "    \"insert_determiner\": 0.15,\n",
    "    \"duplication\": 0.15,\n",
    "    \"split_words\": 0.1,\n",
    "    \"remove_words\": 0.1,\n",
    "    \"punctuations\": 0.05,\n",
    "    \"spelling_errors\": 0.03,\n",
    "    \"punctuation_braces\": 0.02,\n",
    "\n",
    "}"
   ]
  },
  {
   "cell_type": "code",
   "execution_count": 6,
   "metadata": {},
   "outputs": [
    {
     "name": "stderr",
     "output_type": "stream",
     "text": [
      "  0%|                                                                                            | 0/1 [00:00<?, ?it/s]"
     ]
    },
    {
     "name": "stdout",
     "output_type": "stream",
     "text": [
      "start:  0  | batchsize:  10000\n",
      "sent_ngrams:  10000\n"
     ]
    },
    {
     "name": "stderr",
     "output_type": "stream",
     "text": [
      "100%|████████████████████████████████████████████████████████████████████████████████████| 1/1 [00:10<00:00, 10.01s/it]"
     ]
    },
    {
     "name": "stdout",
     "output_type": "stream",
     "text": [
      "replacements:  26563\n",
      "sampled_replacements:  15779\n"
     ]
    },
    {
     "name": "stderr",
     "output_type": "stream",
     "text": [
      "\n"
     ]
    },
    {
     "data": {
      "text/html": [
       "<div>\n",
       "<style scoped>\n",
       "    .dataframe tbody tr th:only-of-type {\n",
       "        vertical-align: middle;\n",
       "    }\n",
       "\n",
       "    .dataframe tbody tr th {\n",
       "        vertical-align: top;\n",
       "    }\n",
       "\n",
       "    .dataframe thead th {\n",
       "        text-align: right;\n",
       "    }\n",
       "</style>\n",
       "<table border=\"1\" class=\"dataframe\">\n",
       "  <thead>\n",
       "    <tr style=\"text-align: right;\">\n",
       "      <th></th>\n",
       "      <th>index</th>\n",
       "      <th>ngram</th>\n",
       "      <th>sentences</th>\n",
       "      <th>replace</th>\n",
       "      <th>error</th>\n",
       "      <th>replacement</th>\n",
       "    </tr>\n",
       "  </thead>\n",
       "  <tbody>\n",
       "    <tr>\n",
       "      <th>3652</th>\n",
       "      <td>1763</td>\n",
       "      <td>1</td>\n",
       "      <td>CONCLUSION: There is quite a high prevalence o...</td>\n",
       "      <td>[prevalence]</td>\n",
       "      <td>remove_words</td>\n",
       "      <td>[]</td>\n",
       "    </tr>\n",
       "    <tr>\n",
       "      <th>11903</th>\n",
       "      <td>6470</td>\n",
       "      <td>3</td>\n",
       "      <td>The clinical data and biochemical indicators w...</td>\n",
       "      <td>[regression, analysis, was]</td>\n",
       "      <td>insert_determiner_verb_form_change</td>\n",
       "      <td>[regression, from, analysis, were]</td>\n",
       "    </tr>\n",
       "    <tr>\n",
       "      <th>15703</th>\n",
       "      <td>3389</td>\n",
       "      <td>4</td>\n",
       "      <td>Conclusions The results of the present study s...</td>\n",
       "      <td>[of, the, effects, of]</td>\n",
       "      <td>remove_words</td>\n",
       "      <td>[of, effects, of]</td>\n",
       "    </tr>\n",
       "    <tr>\n",
       "      <th>12005</th>\n",
       "      <td>7191</td>\n",
       "      <td>3</td>\n",
       "      <td>In vivo, the composite scaffold increased the ...</td>\n",
       "      <td>[increased, the, expression]</td>\n",
       "      <td>verb_form_change_phrase_order_change</td>\n",
       "      <td>[increasing, expression, the]</td>\n",
       "    </tr>\n",
       "    <tr>\n",
       "      <th>6717</th>\n",
       "      <td>9912</td>\n",
       "      <td>2</td>\n",
       "      <td>Taking Fengxi Road's Bashan tunnel section of ...</td>\n",
       "      <td>[the, overall]</td>\n",
       "      <td>insert_determiner_verb_form_change</td>\n",
       "      <td>[am, the, overall]</td>\n",
       "    </tr>\n",
       "  </tbody>\n",
       "</table>\n",
       "</div>"
      ],
      "text/plain": [
       "       index  ngram                                          sentences  \\\n",
       "3652    1763      1  CONCLUSION: There is quite a high prevalence o...   \n",
       "11903   6470      3  The clinical data and biochemical indicators w...   \n",
       "15703   3389      4  Conclusions The results of the present study s...   \n",
       "12005   7191      3  In vivo, the composite scaffold increased the ...   \n",
       "6717    9912      2  Taking Fengxi Road's Bashan tunnel section of ...   \n",
       "\n",
       "                            replace                                 error  \\\n",
       "3652                   [prevalence]                          remove_words   \n",
       "11903   [regression, analysis, was]    insert_determiner_verb_form_change   \n",
       "15703        [of, the, effects, of]                          remove_words   \n",
       "12005  [increased, the, expression]  verb_form_change_phrase_order_change   \n",
       "6717                 [the, overall]    insert_determiner_verb_form_change   \n",
       "\n",
       "                              replacement  \n",
       "3652                                   []  \n",
       "11903  [regression, from, analysis, were]  \n",
       "15703                   [of, effects, of]  \n",
       "12005       [increasing, expression, the]  \n",
       "6717                   [am, the, overall]  "
      ]
     },
     "execution_count": 6,
     "metadata": {},
     "output_type": "execute_result"
    }
   ],
   "source": [
    "# call the method to create error data\n",
    "aeg_df = g.get_aeg_data()\n",
    "\n",
    "aeg_df.sample(5)"
   ]
  },
  {
   "cell_type": "code",
   "execution_count": null,
   "metadata": {},
   "outputs": [],
   "source": []
  }
 ],
 "metadata": {
  "kernelspec": {
   "display_name": "Python 3",
   "language": "python",
   "name": "python3"
  },
  "language_info": {
   "codemirror_mode": {
    "name": "ipython",
    "version": 3
   },
   "file_extension": ".py",
   "mimetype": "text/x-python",
   "name": "python",
   "nbconvert_exporter": "python",
   "pygments_lexer": "ipython3",
   "version": "3.8.6"
  }
 },
 "nbformat": 4,
 "nbformat_minor": 4
}
